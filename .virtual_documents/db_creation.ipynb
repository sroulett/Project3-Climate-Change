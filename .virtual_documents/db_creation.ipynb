import sqlite3
import pandas as pd
import datetime as dt
import matplotlib.pyplot as plt


temp_df = pd.read_csv('GlobalLandTemperaturesByCountry.csv')
temp_df.head(100)



temp_df['dt'] = pd.to_datetime(temp_df['dt']).dt.date


temp_df.dtypes


# Connect to SQLite database (or create it if it doesn't exist)
conn = sqlite3.connect('climate_change.db')



# Create a table for the data
temp_df.to_sql('temp_change', conn, if_exists='replace', index=False)


result_df = pd.read_sql("SELECT * FROM temp_change where dt >= '1860-01-01' and country = 'Greece'", conn)
result_df.head()


result_df.dtypes


result_df['dt'] = pd.to_datetime(result_df['dt'])
result_df.set_index('dt', inplace = True)
date_temp_df = result_df[['AverageTemperature']].copy()
date_temp_df 


date_temp_df['decade'] = (date_temp_df.index.year // 10) * 10
date_temp_df.head()


average_temp_per_decade_df = date_temp_df.groupby('decade')['AverageTemperature'].mean().reset_index()
average_temp_per_decade_df.columns = ['Decade', 'AverageTemperature']
average_temp_per_decade_df.head()


plt.figure(figsize=(10, 6))
plt.plot(average_temp_per_decade_df['Decade'], average_temp_per_decade_df['AverageTemperature'], marker='o')
plt.title('Average Temperature per Decade in Greece')
plt.xlabel('Decade')
plt.ylabel('Average Temperature (°C)')
plt.xticks(average_temp_per_decade_df['Decade'])  # Show all decades on the x-axis
plt.grid()
plt.show()



