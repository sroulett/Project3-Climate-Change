import pandas as pd


# Load the CSV file into a DataFrame
df = pd.read_csv('Hurricane_Data/Storms.csv')

# Display the first few rows of the DataFrame
print(df)


# Remove multiple columns correctly
df.drop(columns=['ID', 'Page url'], inplace=True)

# Display the first few rows of the modified DataFrame
print(df)



