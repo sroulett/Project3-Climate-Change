import matplotlib.pyplot as plt


pip install matplotlib


import pandas as pd


# Load the CSV file into a DataFrame
hurricanes_df = pd.read_csv('Hurricane_Data/Storms.csv')

# Display the first few rows of the DataFrame
hurricanes_df.head()


print(hurricanes_df.columns.tolist())


# Remove multiple columns correctly
hurricanes_df.drop(columns=['Gender of Name'], inplace=True)

# Display the first few rows of the modified DataFrame
hurricanes_df.head()


# Step 1: Filter for hurricanes in the Atlantic
atlantic_hurricanes_df = hurricanes_df[hurricanes_df['Area'].str.contains('Atlantic', case=False, na=False)].copy()

# Step 2: Convert 'Year' column to numeric, coercing errors to NaN
atlantic_hurricanes_df['Year'] = pd.to_numeric(atlantic_hurricanes_df['Year'], errors='coerce')

# Step 3: Filter for hurricanes in the Atlantic from 1980 to 2014
atlantic_hurricanes_filtered_df = atlantic_hurricanes_df[
    (atlantic_hurricanes_df['Year'] >= 1980) & (atlantic_hurricanes_df['Year'] <= 2014)
]

# Optionally, display the first few rows of the filtered DataFrame
atlantic_hurricanes_filtered_df.head()


# Count the number of rows using shape
row_count = atlantic_hurricanes_filtered_df.shape[0]
print(f"Number of rows: {row_count}")


# Step 1: Count occurrences of each category in the "Category (Saffir-Simpson Scale)" column
category_counts = atlantic_hurricanes_filtered_df['Category (Saffir-Simpson Scale)'].value_counts().sort_index()

# Step 2: Create a bar graph
plt.figure(figsize=(10, 6))
category_counts.plot(kind='bar', color='skyblue')

# Add titles and labels
plt.title('Distribution of Hurricane Categories (Saffir-Simpson Scale)', fontsize=16)
plt.xlabel('Category', fontsize=14)
plt.ylabel('Number of Hurricanes', fontsize=14)

# Show grid for better readability
plt.grid(axis='y')

# Display the plot
plt.xticks(rotation=0)  # Rotate x-axis labels to horizontal
plt.show()


import pandas as pd
import matplotlib.pyplot as plt

# Assuming atlantic_hurricanes_filtered_df is already defined and contains the relevant data

# Step 1: Filter for years 1980 to 2014
filtered_df = atlantic_hurricanes_filtered_df[(atlantic_hurricanes_filtered_df['Year'] >= 1980) & 
                                               (atlantic_hurricanes_filtered_df['Year'] <= 2014)]

# Step 2: Create a scatter plot
plt.figure(figsize=(12, 6))
plt.scatter(filtered_df['Year'], filtered_df['Category (Saffir-Simpson Scale)'], alpha=0.6, label='Hurricane Categories')

# Step 3: Add a line plot for the average category per year
average_categories = filtered_df.groupby('Year')['Category (Saffir-Simpson Scale)'].mean()
plt.plot(average_categories.index, average_categories, color='red', linewidth=2, label='Average Category', marker='o')

# Add titles and labels
plt.title('Hurricane Categories (Saffir-Simpson Scale) from 1980 to 2014', fontsize=16)
plt.xlabel('Year', fontsize=14)
plt.ylabel('Category (Saffir-Simpson Scale)', fontsize=14)

# Set y-ticks to show categories clearly
plt.yticks([1, 2, 3, 4, 5], ['1', '2', '3', '4', '5'])

# Show grid for better readability
plt.grid()

# Add legend
plt.legend()

# Display the plot
plt.xticks(rotation=45)  # Rotate x-axis labels for better visibility
plt.tight_layout()  # Adjust layout to prevent clipping of labels
plt.show()



